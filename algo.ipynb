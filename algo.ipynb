{
 "cells": [
  {
   "attachments": {},
   "cell_type": "markdown",
   "metadata": {},
   "source": [
    "# Laboratory work #2"
   ]
  },
  {
   "attachments": {},
   "cell_type": "markdown",
   "metadata": {},
   "source": [
    "Comparison of the performance of algorithms on certain text data of different sizes"
   ]
  },
  {
   "attachments": {},
   "cell_type": "markdown",
   "metadata": {},
   "source": [
    "# 1. Huffman's algorithm"
   ]
  },
  {
   "attachments": {},
   "cell_type": "markdown",
   "metadata": {},
   "source": [
    "Description"
   ]
  },
  {
   "cell_type": "code",
   "execution_count": null,
   "metadata": {},
   "outputs": [],
   "source": [
    "#your code"
   ]
  },
  {
   "attachments": {},
   "cell_type": "markdown",
   "metadata": {},
   "source": [
    "# 2. LZW"
   ]
  },
  {
   "attachments": {},
   "cell_type": "markdown",
   "metadata": {},
   "source": [
    "Description"
   ]
  },
  {
   "cell_type": "code",
   "execution_count": null,
   "metadata": {},
   "outputs": [],
   "source": [
    "#your code"
   ]
  },
  {
   "attachments": {},
   "cell_type": "markdown",
   "metadata": {},
   "source": [
    "# 3. LZ77"
   ]
  },
  {
   "attachments": {},
   "cell_type": "markdown",
   "metadata": {},
   "source": [
    "Цей код є реалізацією алгоритму стиснення даних LZ77.\n",
    "\n",
    "Клас LZ77 містить два методи - compress і decompress - які використовують алгоритм для стиснення та розпакування даних відповідно.\n",
    "\n",
    "У методі compress текстовий файл зчитується в змінну text. Далі, передана рядок кодується у байти, тобто перетворюється на послідовність чисел, які можуть бути збережені в комп'ютері. Метод знаходить збіги між даними, які вже були зчитані, і даними, які ще мають бути зчитані. Якщо збіг знайдено, метод створює трикутник (offset, length, next_char), де offset - це позиція першого збігу в попередньому тексті, length - довжина збігу, а next_char - наступний символ, що йде після збігу. Якщо збіг не знайдено, метод додає одиничний трикутник (0, 0, next_char), де next_char - наступний символ, що має бути зчитаний. Після створення всіх трикутників, метод повертає їх як список.\n",
    "\n",
    "У методі decompress метод приймає стиснуті дані у вигляді списку трикутників (offset, length, next_char), які були створені методом compress. Метод проходиться по списку трикутників і розкодовує їх, створюючи розгорнутий текст. Якщо length більше нуля, то в розгорнутий текст додається довжина символів, які повторюються від позиції (len(output) - offset) до length. Інакше, якщо length дорівнює нулю, то в розгорнутий текст додається наступний символ, що має бути декодований."
   ]
  },
  {
   "cell_type": "code",
   "execution_count": 3,
   "metadata": {},
   "outputs": [],
   "source": [
    "class LZ77:\n",
    "    \"\"\"\n",
    "    This class allows you to use the LZ77 algorithmto compress text and decrypt it.\n",
    "    >>> lz = LZ77()\n",
    "    \"\"\"\n",
    "    def __init__(self, window_size=64, buffer_size=16):\n",
    "        \"\"\"\n",
    "        Constructor of the class\n",
    "        The window_size parameter specifies the size of the search window\n",
    "        and the buffer_size parameter specifies the size of the input view buffer.\n",
    "        (By default: window_size=1024, buffer_size=64)\n",
    "        >>> lz = LZ77(2048, 32)\n",
    "        \"\"\"\n",
    "        self.window_size = window_size\n",
    "        self.buffer_size = buffer_size\n",
    "\n",
    "    def compress(self, string):\n",
    "        \"\"\"\n",
    "        According to the LZ77 compression algorithm, it compresses\n",
    "        the file and returns a compact encrypted text in the form\n",
    "        of tuples of the type (offset, length, next_char)\n",
    "        >>> mini_text = \"asdasdasdasdasd\"\n",
    "        >>> lz.compress(mini_text)\n",
    "        \"\"\"\n",
    "        data, output, iter = string.encode(), [], 0\n",
    "        while iter < len(data):\n",
    "            best_match = (0, 0)\n",
    "            search_start = max(0, iter - self.window_size)\n",
    "            for j in range(search_start, iter):\n",
    "                length = 0\n",
    "                while iter + length < len(data) and data[j + length] == data[iter + length]:\n",
    "                    length += 1\n",
    "                    if length > best_match[1]:\n",
    "                        best_match = (iter - j, length)\n",
    "            if best_match[1] > 0:\n",
    "                try:\n",
    "                    output.append((best_match[0], best_match[1], data[iter + best_match[1]]))\n",
    "                except IndexError:\n",
    "                    output.append((best_match[0], best_match[1], 0))\n",
    "                iter += best_match[1] + 1\n",
    "            else:\n",
    "                output.append((0, 0, data[iter]))\n",
    "                iter += 1\n",
    "        return output\n",
    "\n",
    "    def decompress(self, compressed_data):\n",
    "        \"\"\"\n",
    "        The decompress method takes a compressed sequence of data\n",
    "        as a list of tuples and returns an expanded string. It\n",
    "        restores the original data using information from the\n",
    "        tuples obtained from the compress method.\n",
    "        >>> lz.decompress([(0, 0, 'a'), (0, 0, 's'), (0, 0, 'd'), (3, 12, '')])\n",
    "        'asdasdasdasdasd'\n",
    "        \"\"\"\n",
    "        output = b\"\"\n",
    "        for triple in compressed_data:\n",
    "            if triple[1] > 0:\n",
    "                start = len(output) - triple[0]\n",
    "                for i in range(triple[1]):\n",
    "                    output += bytes([output[start + i]])\n",
    "            output += bytes([triple[2]])\n",
    "        if output[-1] == 0:\n",
    "            return output[:-1].decode()# becouse 0 at end\n",
    "        else: return output[:].decode()# becouse 0 at end\n",
    "lz = LZ77()"
   ]
  },
  {
   "attachments": {},
   "cell_type": "markdown",
   "metadata": {},
   "source": [
    "# 4. Combination of LZ77 and Huffman encoding"
   ]
  },
  {
   "attachments": {},
   "cell_type": "markdown",
   "metadata": {},
   "source": [
    "my text"
   ]
  },
  {
   "cell_type": "code",
   "execution_count": null,
   "metadata": {},
   "outputs": [],
   "source": [
    "#my code"
   ]
  },
  {
   "attachments": {},
   "cell_type": "markdown",
   "metadata": {},
   "source": [
    "# Checking the serviceability of algorithms"
   ]
  },
  {
   "cell_type": "code",
   "execution_count": 4,
   "metadata": {},
   "outputs": [],
   "source": [
    "mini_text = \"asdasdasdasdasd\"\n",
    "\n",
    "# Try Huffman's algorithm\n",
    "# напиши\n",
    "\n",
    "# Try LZW\n",
    "# напиши\n",
    "\n",
    "# Try LZ77\n",
    "lz = LZ77()\n",
    "compressed = lz.compress(mini_text)\n",
    "decompressed = lz.decompress(compressed)\n",
    "assert mini_text == decompressed\n",
    "\n",
    "# Try combination of LZ77 and Huffman\n",
    "# я напишу\n"
   ]
  },
  {
   "attachments": {},
   "cell_type": "markdown",
   "metadata": {},
   "source": [
    "# Comparison of running time and compression size in percentage of these codes"
   ]
  },
  {
   "cell_type": "code",
   "execution_count": 7,
   "metadata": {},
   "outputs": [
    {
     "name": "stdout",
     "output_type": "stream",
     "text": [
      "Time of compress LZ77 with a file size of 98252 characters:  \t0.8866336345672607s\t= 0.01478min.(+-)\n",
      "Time of decompress LZ77 with a file size of 98252 characters:\t0.22539639472961426s\t= 0.00376min.(+-)\n",
      "Percentage of compression LZ77 with a file size of 98252 characters:\t130.45575752641113%\n"
     ]
    }
   ],
   "source": [
    "from time import time\n",
    "lz = LZ77()\n",
    "\n",
    "\n",
    "#__________________Easy_level___________________\n",
    "with open('text1.txt', 'r', encoding=\"utf-8\") as file:\n",
    "    text = file.read()\n",
    "#напиши Гафмана\n",
    "# Напиши LZW\n",
    "#LZ77\n",
    "start = time()\n",
    "compressed = lz.compress(text)\n",
    "print(f\"Time of compress LZ77 with a file size of {len(text)} characters:  \\t{time() - start}s\\t= {round((time() - start)/60, 5)}min.(+-)\")\n",
    "start = time()\n",
    "decompressed = lz.decompress(compressed)\n",
    "print(f\"Time of decompress LZ77 with a file size of {len(text)} characters:\\t{time() - start}s\\t= {round((time() - start)/60, 5)}min.(+-)\")\n",
    "print(f'Percentage of compression LZ77 with a file size of {len(text)} characters:\\t{len(compressed)*(10 + 6 + 8)/len(text.encode())/8*100}%\\n')\n"
   ]
  },
  {
   "cell_type": "code",
   "execution_count": 8,
   "metadata": {},
   "outputs": [
    {
     "name": "stdout",
     "output_type": "stream",
     "text": [
      "Time of compress LZ77 with a file size of 528474 characters:  \t4.470831632614136s\t= 0.07451min.(+-)\n",
      "Time of decompress LZ77 with a file size of 528474 characters:\t6.080148696899414s\t= 0.10134min.(+-)\n",
      "Percentage of compression LZ77 with a file size of 528474 characters:\t123.99487045080126%\n",
      "\n"
     ]
    }
   ],
   "source": [
    "# _________________Medium_level____________________\n",
    "with open('text2.txt', 'r', encoding=\"utf-8\") as file:\n",
    "    text = file.read()\n",
    "#напиши Гафмана\n",
    "# Напиши LZW\n",
    "#LZ77\n",
    "start = time()\n",
    "compressed = lz.compress(text)\n",
    "print(f\"Time of compress LZ77 with a file size of {len(text)} characters:  \\t{time() - start}s\\t= {round((time() - start)/60, 5)}min.(+-)\")\n",
    "start = time()\n",
    "decompressed = lz.decompress(compressed)\n",
    "print(f\"Time of decompress LZ77 with a file size of {len(text)} characters:\\t{time() - start}s\\t= {round((time() - start)/60, 5)}min.(+-)\")\n",
    "print(f'Percentage of compression LZ77 with a file size of {len(text)} characters:\\t{len(compressed)*(10 + 6 + 8)/len(text.encode())/8*100}%\\n')\n",
    "\n",
    "# Надто довго компілює, тому крашиться, поки не пиши тут нічого\n",
    "with open('text3.txt', 'r', encoding=\"utf-8\") as file:\n",
    "    text = file.read()"
   ]
  }
 ],
 "metadata": {
  "kernelspec": {
   "display_name": "Python 3",
   "language": "python",
   "name": "python3"
  },
  "language_info": {
   "codemirror_mode": {
    "name": "ipython",
    "version": 3
   },
   "file_extension": ".py",
   "mimetype": "text/x-python",
   "name": "python",
   "nbconvert_exporter": "python",
   "pygments_lexer": "ipython3",
   "version": "3.10.5"
  },
  "orig_nbformat": 4
 },
 "nbformat": 4,
 "nbformat_minor": 2
}
